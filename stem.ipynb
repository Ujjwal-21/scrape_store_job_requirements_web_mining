{
 "cells": [
  {
   "cell_type": "code",
   "execution_count": 3,
   "metadata": {},
   "outputs": [],
   "source": [
    "from thefuzz import fuzz"
   ]
  },
  {
   "cell_type": "code",
   "execution_count": 4,
   "metadata": {},
   "outputs": [
    {
     "data": {
      "text/plain": [
       "88"
      ]
     },
     "execution_count": 4,
     "metadata": {},
     "output_type": "execute_result"
    }
   ],
   "source": [
    "fuzz.ratio(\"data analysis\", \"data analyst\")"
   ]
  },
  {
   "cell_type": "markdown",
   "metadata": {},
   "source": []
  },
  {
   "cell_type": "code",
   "execution_count": 32,
   "metadata": {},
   "outputs": [],
   "source": [
    "l=['Data Analysis', 'SQL Server', 'Data Analytics', 'powerbi', 'SQL', 'MSBI', 'Oracle', 'Training', 'tableau', 'Time management', 'Analytical', 'Data collection', 'Data analytics', 'Data Analyst', 'data visualization', 'SQL', 'Data analysis', 'Environmental science', 'Business analytics', 'Diversity and Inclusion', 'Finance', 'Corporate', 'ISS', 'Data Analyst', 'Data analytics', 'Data mining', 'Excel', 'Pivot Table', 'VLOOKUP', 'Formulas', 'Advanced Excel', 'HLOOKUP', 'BPO', 'Report Automation', 'SQL Database', 'Data Analytics', 'Data Reporting', 'excel', 'Excel', 'data visualization', 'Tableau', 'SQL', 'Python', 'Data Analytics', 'SQL', 'Excel', 'Data Analytics', 'Python', 'Data analyst', 'Engineering', 'Power Plant', 'Administration', 'Automation', 'Electronics', 'Educational', 'Engineering Maintenance', 'Quarry', 'Electrical', 'Hospital', 'mis reporting', 'Data Management', 'HLOOKUP', 'VLOOKUP', 'Data Analysis', 'report generation', 'Data Extraction', 'Advanced Excel', 'sales', 'Pivot Table', 'data monitoring', 'Data Analytics', 'Data Reporting', 'Advanced Excel', 'Pivot Table', 'MS Excel', 'VLOOKUP', 'Formulas', 'HLOOKUP', 'Informatica', 'Data Quality', 'Data Management', 'Data Mining', 'Data Analyst', 'Data Modeling', 'Solution Design', 'ETL', 'Talend', 'Data Analytics', 'SQL', 'SQL', 'Business Intelligence', 'SAS', 'Data Visualization', 'Tableau', 'Data Analytics', 'Statistics', 'Analytics', 'Python', 'Diversity and Inclusion', 'Focus', 'Banking', 'SCALA', 'Agile', 'Data Analyst', 'Asset management', 'Financial services', 'Core banking', 'Python', 'excel', 'Financial Reporting', 'advance excel', 'Finance', 'Data Analysis', 'data analyst', 'data analytics', 'performing analysis', 'report preparation', 'data governance', 'mysql', 'Performance tuning', 'Coding', 'Artificial Intelligence', 'Machine learning', 'Data Analyst', 'Data analytics', 'Analyst 3', 'Statistics', 'Analytics', 'Data extraction', 'Performance tuning', 'Data analysis', 'SAP', 'spark', 'Data structures', 'big data', 'Monitoring', 'SQL', 'Data architecture', 'Python', 'Data Quality', 'data analysis', 'Data Management', 'Data Modeling', 'Data Governance']"
   ]
  },
  {
   "attachments": {},
   "cell_type": "markdown",
   "metadata": {},
   "source": [
    "Lowercase the elements of the list and print the result."
   ]
  },
  {
   "cell_type": "code",
   "execution_count": 5,
   "metadata": {},
   "outputs": [
    {
     "data": {
      "text/plain": [
       "['data analysis',\n",
       " 'sql server',\n",
       " 'data analytics',\n",
       " 'powerbi',\n",
       " 'sql',\n",
       " 'msbi',\n",
       " 'oracle',\n",
       " 'training',\n",
       " 'tableau',\n",
       " 'time management',\n",
       " 'analytical',\n",
       " 'data collection',\n",
       " 'data analytics',\n",
       " 'data analyst',\n",
       " 'data visualization',\n",
       " 'sql',\n",
       " 'data analysis',\n",
       " 'environmental science',\n",
       " 'business analytics',\n",
       " 'diversity and inclusion',\n",
       " 'finance',\n",
       " 'corporate',\n",
       " 'iss',\n",
       " 'data analyst',\n",
       " 'data analytics',\n",
       " 'data mining',\n",
       " 'excel',\n",
       " 'pivot table',\n",
       " 'vlookup',\n",
       " 'formulas',\n",
       " 'advanced excel',\n",
       " 'hlookup',\n",
       " 'bpo',\n",
       " 'report automation',\n",
       " 'sql database',\n",
       " 'data analytics',\n",
       " 'data reporting',\n",
       " 'excel',\n",
       " 'excel',\n",
       " 'data visualization',\n",
       " 'tableau',\n",
       " 'sql',\n",
       " 'python',\n",
       " 'data analytics',\n",
       " 'sql',\n",
       " 'excel',\n",
       " 'data analytics',\n",
       " 'python',\n",
       " 'data analyst',\n",
       " 'engineering',\n",
       " 'power plant',\n",
       " 'administration',\n",
       " 'automation',\n",
       " 'electronics',\n",
       " 'educational',\n",
       " 'engineering maintenance',\n",
       " 'quarry',\n",
       " 'electrical',\n",
       " 'hospital',\n",
       " 'mis reporting',\n",
       " 'data management',\n",
       " 'hlookup',\n",
       " 'vlookup',\n",
       " 'data analysis',\n",
       " 'report generation',\n",
       " 'data extraction',\n",
       " 'advanced excel',\n",
       " 'sales',\n",
       " 'pivot table',\n",
       " 'data monitoring',\n",
       " 'data analytics',\n",
       " 'data reporting',\n",
       " 'advanced excel',\n",
       " 'pivot table',\n",
       " 'ms excel',\n",
       " 'vlookup',\n",
       " 'formulas',\n",
       " 'hlookup',\n",
       " 'informatica',\n",
       " 'data quality',\n",
       " 'data management',\n",
       " 'data mining',\n",
       " 'data analyst',\n",
       " 'data modeling',\n",
       " 'solution design',\n",
       " 'etl',\n",
       " 'talend',\n",
       " 'data analytics',\n",
       " 'sql',\n",
       " 'sql',\n",
       " 'business intelligence',\n",
       " 'sas',\n",
       " 'data visualization',\n",
       " 'tableau',\n",
       " 'data analytics',\n",
       " 'statistics',\n",
       " 'analytics',\n",
       " 'python',\n",
       " 'diversity and inclusion',\n",
       " 'focus',\n",
       " 'banking',\n",
       " 'scala',\n",
       " 'agile',\n",
       " 'data analyst',\n",
       " 'asset management',\n",
       " 'financial services',\n",
       " 'core banking',\n",
       " 'python',\n",
       " 'excel',\n",
       " 'financial reporting',\n",
       " 'advance excel',\n",
       " 'finance',\n",
       " 'data analysis',\n",
       " 'data analyst',\n",
       " 'data analytics',\n",
       " 'performing analysis',\n",
       " 'report preparation',\n",
       " 'data governance',\n",
       " 'mysql',\n",
       " 'performance tuning',\n",
       " 'coding',\n",
       " 'artificial intelligence',\n",
       " 'machine learning',\n",
       " 'data analyst',\n",
       " 'data analytics',\n",
       " 'analyst 3',\n",
       " 'statistics',\n",
       " 'analytics',\n",
       " 'data extraction',\n",
       " 'performance tuning',\n",
       " 'data analysis',\n",
       " 'sap',\n",
       " 'spark',\n",
       " 'data structures',\n",
       " 'big data',\n",
       " 'monitoring',\n",
       " 'sql',\n",
       " 'data architecture',\n",
       " 'python',\n",
       " 'data quality',\n",
       " 'data analysis',\n",
       " 'data management',\n",
       " 'data modeling',\n",
       " 'data governance']"
      ]
     },
     "execution_count": 5,
     "metadata": {},
     "output_type": "execute_result"
    }
   ],
   "source": [
    "p=list(map(str.lower,l))"
   ]
  },
  {
   "cell_type": "code",
   "execution_count": 39,
   "metadata": {},
   "outputs": [
    {
     "name": "stdout",
     "output_type": "stream",
     "text": [
      "data analysis data analytics\n",
      "data analysis data analytics\n",
      "data analysis data analyst\n",
      "data analysis data analysis\n",
      "data analysis data analyst\n",
      "data analysis data analytics\n",
      "data analysis data analytics\n",
      "data analysis data analytics\n",
      "data analysis data analytics\n",
      "data analysis data analyst\n",
      "data analysis data analysis\n",
      "data analysis data analytics\n",
      "data analysis data analyst\n",
      "data analysis data analytics\n",
      "data analysis data analytics\n",
      "data analysis data analyst\n",
      "data analysis data analysis\n",
      "data analysis data analyst\n",
      "data analysis data analytics\n",
      "data analysis data analyst\n",
      "data analysis data analytics\n",
      "data analysis data analysis\n",
      "data analysis data analysis\n",
      "sql sql\n",
      "sql sql\n",
      "sql sql\n",
      "sql sql\n",
      "sql sql\n",
      "sql sql\n",
      "tableau tableau\n",
      "tableau tableau\n",
      "analytical analytics\n",
      "analytical analytics\n",
      "data visualization data visualization\n",
      "data visualization data visualization\n",
      "diversity and inclusion diversity and inclusion\n",
      "finance finance\n",
      "data mining data mining\n",
      "excel excel\n",
      "excel excel\n",
      "excel excel\n",
      "excel excel\n",
      "pivot table pivot table\n",
      "pivot table pivot table\n",
      "vlookup hlookup\n",
      "vlookup hlookup\n",
      "vlookup vlookup\n",
      "vlookup vlookup\n",
      "vlookup hlookup\n",
      "formulas formulas\n",
      "advanced excel advanced excel\n",
      "advanced excel advanced excel\n",
      "advanced excel advance excel\n",
      "data reporting data reporting\n",
      "python python\n",
      "python python\n",
      "python python\n",
      "python python\n",
      "data management data management\n",
      "data management asset management\n",
      "data management data management\n",
      "data extraction data extraction\n",
      "data quality data quality\n",
      "data modeling data modeling\n",
      "statistics statistics\n",
      "data governance data governance\n",
      "performance tuning performance tuning\n"
     ]
    }
   ],
   "source": [
    "i=0\n",
    "n={}\n",
    "for i in range(len(p)):\n",
    "    for j in range(i+1,len(p)):\n",
    "        # print(p[i],p[j])\n",
    "        if fuzz.ratio(p[i],p[j])>80 and  p[j]!=\"-1\" and p[i]!=\"-1\":\n",
    "            print(p[i],p[j])\n",
    "            p[j]=\"-1\"\n",
    "            if p[i] in n:\n",
    "                n[p[i]]+=1\n",
    "            else:\n",
    "                n[p[i]]=1"
   ]
  },
  {
   "cell_type": "code",
   "execution_count": 88,
   "metadata": {},
   "outputs": [
    {
     "data": {
      "text/plain": [
       "81"
      ]
     },
     "execution_count": 88,
     "metadata": {},
     "output_type": "execute_result"
    }
   ],
   "source": [
    "fuzz.ratio(\"data analysis\", \"data analytics\")"
   ]
  },
  {
   "cell_type": "code",
   "execution_count": null,
   "metadata": {},
   "outputs": [],
   "source": [
    "# {k: v for k, v in sorted(m.items(), key=lambda item: item[1], reverse=True)}"
   ]
  },
  {
   "cell_type": "code",
   "execution_count": 31,
   "metadata": {},
   "outputs": [],
   "source": [
    "#[k for k, v in sorted(m.items(), key=lambda item: item[1], reverse=True)]"
   ]
  },
  {
   "cell_type": "code",
   "execution_count": 37,
   "metadata": {},
   "outputs": [],
   "source": [
    "p=list(map(str.lower,l))\n",
    "m={}\n",
    "for i in p:\n",
    "    if i in m:\n",
    "        m[i]+=1\n",
    "    else:\n",
    "        m[i]=1\n",
    "s=[k for k, v in sorted(m.items(), key=lambda item: item[1], reverse=True)]\n",
    "b=[True for i in range(len(s))]\n",
    "nm={}\n",
    "for i in range(len(s)):\n",
    "    if b[i]==False:\n",
    "        continue\n",
    "    if s[i] not in nm:\n",
    "        nm[s[i]]=m[s[i]]\n",
    "    for j in range(i+1,len(s)):\n",
    "        if b[j]==False:\n",
    "            continue\n",
    "        if fuzz.ratio(s[i],s[j])>80:\n",
    "            b[j]=False\n",
    "            nm[s[i]]+=m[s[j]]\n",
    "        else:\n",
    "            if s[j] not in nm:\n",
    "                nm[s[j]]=m[s[j]]\n",
    "rl=[k for k, v in sorted(nm.items(), key=lambda item: item[1], reverse=True)]\n",
    "            "
   ]
  },
  {
   "cell_type": "code",
   "execution_count": 34,
   "metadata": {},
   "outputs": [
    {
     "data": {
      "text/plain": [
       "144"
      ]
     },
     "execution_count": 34,
     "metadata": {},
     "output_type": "execute_result"
    }
   ],
   "source": [
    "len(p)"
   ]
  },
  {
   "cell_type": "code",
   "execution_count": null,
   "metadata": {},
   "outputs": [],
   "source": []
  },
  {
   "cell_type": "code",
   "execution_count": 40,
   "metadata": {},
   "outputs": [
    {
     "data": {
      "text/plain": [
       "67"
      ]
     },
     "execution_count": 40,
     "metadata": {},
     "output_type": "execute_result"
    }
   ],
   "source": [
    "sum(n.values())"
   ]
  },
  {
   "cell_type": "code",
   "execution_count": 38,
   "metadata": {},
   "outputs": [
    {
     "data": {
      "text/plain": [
       "['data analytics',\n",
       " 'sql',\n",
       " 'vlookup',\n",
       " 'excel',\n",
       " 'python',\n",
       " 'advanced excel',\n",
       " 'data management',\n",
       " 'tableau',\n",
       " 'data visualization',\n",
       " 'pivot table',\n",
       " 'hlookup',\n",
       " 'analytics',\n",
       " 'diversity and inclusion',\n",
       " 'finance',\n",
       " 'data mining',\n",
       " 'formulas',\n",
       " 'data reporting',\n",
       " 'data extraction',\n",
       " 'data quality',\n",
       " 'data modeling',\n",
       " 'statistics',\n",
       " 'data governance',\n",
       " 'performance tuning',\n",
       " 'sql server',\n",
       " 'powerbi',\n",
       " 'msbi',\n",
       " 'oracle',\n",
       " 'training',\n",
       " 'time management',\n",
       " 'analytical',\n",
       " 'data collection',\n",
       " 'environmental science',\n",
       " 'business analytics',\n",
       " 'corporate',\n",
       " 'iss',\n",
       " 'bpo',\n",
       " 'report automation',\n",
       " 'sql database',\n",
       " 'engineering',\n",
       " 'power plant',\n",
       " 'administration',\n",
       " 'automation',\n",
       " 'electronics',\n",
       " 'educational',\n",
       " 'engineering maintenance',\n",
       " 'quarry',\n",
       " 'electrical',\n",
       " 'hospital',\n",
       " 'mis reporting',\n",
       " 'report generation',\n",
       " 'sales',\n",
       " 'data monitoring',\n",
       " 'ms excel',\n",
       " 'informatica',\n",
       " 'solution design',\n",
       " 'etl',\n",
       " 'talend',\n",
       " 'business intelligence',\n",
       " 'sas',\n",
       " 'focus',\n",
       " 'banking',\n",
       " 'scala',\n",
       " 'agile',\n",
       " 'asset management',\n",
       " 'financial services',\n",
       " 'core banking',\n",
       " 'financial reporting',\n",
       " 'advance excel',\n",
       " 'performing analysis',\n",
       " 'report preparation',\n",
       " 'mysql',\n",
       " 'coding',\n",
       " 'artificial intelligence',\n",
       " 'machine learning',\n",
       " 'analyst 3',\n",
       " 'sap',\n",
       " 'spark',\n",
       " 'data structures',\n",
       " 'big data',\n",
       " 'monitoring',\n",
       " 'data architecture']"
      ]
     },
     "execution_count": 38,
     "metadata": {},
     "output_type": "execute_result"
    }
   ],
   "source": [
    "rl"
   ]
  }
 ],
 "metadata": {
  "kernelspec": {
   "display_name": "Python 3",
   "language": "python",
   "name": "python3"
  },
  "language_info": {
   "codemirror_mode": {
    "name": "ipython",
    "version": 3
   },
   "file_extension": ".py",
   "mimetype": "text/x-python",
   "name": "python",
   "nbconvert_exporter": "python",
   "pygments_lexer": "ipython3",
   "version": "3.11.2"
  },
  "orig_nbformat": 4
 },
 "nbformat": 4,
 "nbformat_minor": 2
}
